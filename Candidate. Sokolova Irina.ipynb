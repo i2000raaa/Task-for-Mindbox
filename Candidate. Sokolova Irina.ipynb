{
 "cells": [
  {
   "cell_type": "markdown",
   "metadata": {},
   "source": [
    "### Задача"
   ]
  },
  {
   "cell_type": "markdown",
   "metadata": {},
   "source": [
    "1. Функция, которая подсчитывает число покупателей, попадающих в каждую группу, если нумерация ID сквозная и начинается с 0"
   ]
  },
  {
   "cell_type": "code",
   "execution_count": 39,
   "metadata": {},
   "outputs": [],
   "source": [
    "def func_1(n_customers):\n",
    "    group = {}\n",
    "    for i in range(n_customers):\n",
    "        sum = 0\n",
    "        while (i != 0):\n",
    "            sum = sum + i % 10\n",
    "            i = i // 10\n",
    "        if sum not in group.keys():\n",
    "            group[sum] = 1\n",
    "        else:\n",
    "            group[sum] += 1\n",
    "    return group"
   ]
  },
  {
   "cell_type": "code",
   "execution_count": 40,
   "metadata": {},
   "outputs": [
    {
     "data": {
      "text/plain": [
       "{0: 1,\n",
       " 1: 2,\n",
       " 2: 3,\n",
       " 3: 4,\n",
       " 4: 5,\n",
       " 5: 6,\n",
       " 6: 7,\n",
       " 7: 8,\n",
       " 8: 9,\n",
       " 9: 10,\n",
       " 10: 9,\n",
       " 11: 8,\n",
       " 12: 7,\n",
       " 13: 6,\n",
       " 14: 5,\n",
       " 15: 4,\n",
       " 16: 3,\n",
       " 17: 2,\n",
       " 18: 1}"
      ]
     },
     "execution_count": 40,
     "metadata": {},
     "output_type": "execute_result"
    }
   ],
   "source": [
    "func_1(100)"
   ]
  },
  {
   "cell_type": "markdown",
   "metadata": {},
   "source": [
    "2. Функция, аналогичная первой, если ID начинается с произвольного числа"
   ]
  },
  {
   "cell_type": "code",
   "execution_count": 41,
   "metadata": {},
   "outputs": [],
   "source": [
    "def func_2(n_customers, n_first_id):\n",
    "    group = {}\n",
    "    sum = 0\n",
    "    for i in range(n_first_id, n_first_id+n_customers):\n",
    "        sum = 0\n",
    "        while (i != 0):\n",
    "            sum = sum + i % 10\n",
    "            i = i // 10\n",
    "        if sum not in group.keys():\n",
    "            group[sum] = 1\n",
    "        else:\n",
    "            group[sum] += 1\n",
    "    return group"
   ]
  },
  {
   "cell_type": "code",
   "execution_count": 42,
   "metadata": {},
   "outputs": [
    {
     "data": {
      "text/plain": [
       "{5: 7,\n",
       " 6: 7,\n",
       " 7: 8,\n",
       " 8: 9,\n",
       " 9: 10,\n",
       " 1: 2,\n",
       " 2: 3,\n",
       " 3: 4,\n",
       " 4: 5,\n",
       " 10: 9,\n",
       " 11: 8,\n",
       " 12: 7,\n",
       " 13: 6,\n",
       " 14: 5,\n",
       " 15: 4,\n",
       " 16: 3,\n",
       " 17: 2,\n",
       " 18: 1}"
      ]
     },
     "execution_count": 42,
     "metadata": {},
     "output_type": "execute_result"
    }
   ],
   "source": [
    "func_2(100, 5)"
   ]
  }
 ],
 "metadata": {
  "kernelspec": {
   "display_name": "Python 3",
   "language": "python",
   "name": "python3"
  },
  "language_info": {
   "codemirror_mode": {
    "name": "ipython",
    "version": 3
   },
   "file_extension": ".py",
   "mimetype": "text/x-python",
   "name": "python",
   "nbconvert_exporter": "python",
   "pygments_lexer": "ipython3",
   "version": "3.7.6"
  }
 },
 "nbformat": 4,
 "nbformat_minor": 4
}
